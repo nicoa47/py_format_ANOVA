{
 "cells": [
  {
   "cell_type": "markdown",
   "metadata": {},
   "source": [
    "## Obtain text format ANOVA results\n",
    "TODOs (not implemented yet):\n",
    "- between subject factors\n",
    "- readout group factor from between subject tables\n",
    "- readout the main effect directions\n",
    "- clean up: move the functions to offline script\n",
    "- implement multiple groups"
   ]
  },
  {
   "cell_type": "markdown",
   "metadata": {},
   "source": [
    "0. adjust if necessary"
   ]
  },
  {
   "cell_type": "code",
   "execution_count": 3,
   "metadata": {},
   "outputs": [],
   "source": [
    "alpha_level = 0.05"
   ]
  },
  {
   "cell_type": "markdown",
   "metadata": {},
   "source": [
    "1. export all SPSS ANOVA result tables \"Tests der Innersubjekteffekte\" as .txt files  \n",
    "(right-click on table and select \"Exportieren...\")\n",
    "![title](instruction.jpg)  \n",
    "\n",
    "2. Select the file by running the cell below:"
   ]
  },
  {
   "cell_type": "code",
   "execution_count": 4,
   "metadata": {},
   "outputs": [],
   "source": [
    "import numpy as np\n",
    "import pandas as pd"
   ]
  },
  {
   "cell_type": "code",
   "execution_count": 5,
   "metadata": {},
   "outputs": [
    {
     "data": {
      "text/plain": [
       "'R:/AG-Beste-Studien/TEC4Tic - Forschergruppe/EEG-Daten/SR Nico/behavioral/RT_ANOVA_SPSS_all.htm'"
      ]
     },
     "execution_count": 5,
     "metadata": {},
     "output_type": "execute_result"
    }
   ],
   "source": [
    "import tkinter as tk\n",
    "from tkinter import filedialog\n",
    "from pathlib import Path\n",
    "\n",
    "# hiding the root tkinter window (not needed)\n",
    "root = tk.Tk()\n",
    "root.withdraw()\n",
    "# open the file selector\n",
    "filename = filedialog.askopenfilename(initialdir = \"R:/AG-Beste-Studien/\",\n",
    "                                      title = \"Select file\",\n",
    "                                      filetypes = (('Text files','*.htm'),(\"all files\",\"*.*\")))\n",
    "filename"
   ]
  },
  {
   "cell_type": "markdown",
   "metadata": {},
   "source": [
    "3. collect all the tables from exported HTML"
   ]
  },
  {
   "cell_type": "code",
   "execution_count": 51,
   "metadata": {},
   "outputs": [
    {
     "name": "stdout",
     "output_type": "stream",
     "text": [
      "['Hinweise', 'Innersubjektfaktoren', 'Zwischensubjektfaktoren', 'Deskriptive Statistiken', 'Multivariate Tests', 'Mauchly-Test auf Sphärizität', 'Tests der Innersubjekteffekte', 'Tests der Innersubjektkontraste', 'Tests der Zwischensubjekteffekte', '1. Gesamtmittelwert', 'Schätzungen', 'Paarweise Vergleiche', 'Tests auf Univariate', 'Schätzungen', 'Paarweise Vergleiche', 'Multivariate Tests', 'Schätzungen', 'Paarweise Vergleiche', 'Multivariate Tests', '5. group * comp_0_3', '6. group * rep_alt', '7. comp_0_3 * rep_alt', '8. group * comp_0_3 * rep_alt']\n"
     ]
    }
   ],
   "source": [
    "# other approach: read html tables to pandas\n",
    "\n",
    "from bs4 import BeautifulSoup\n",
    "f = open(filename, \"r\", encoding=\"utf8\")\n",
    "html = f.read()\n",
    "soup = BeautifulSoup(html, \"lxml\")\n",
    "captions = soup.find_all(\"caption\")\n",
    "captions = [str(c).split(\">\")[1].split(\"<\")[0] for c in captions]\n",
    "print(captions)"
   ]
  },
  {
   "cell_type": "code",
   "execution_count": 52,
   "metadata": {},
   "outputs": [],
   "source": [
    "tables = {}\n",
    "for c in captions:\n",
    "    tables[c] = pd.read_html(filename, decimal=\",\", match=c.replace(\"*\", \"\\*\"))[0]"
   ]
  },
  {
   "cell_type": "markdown",
   "metadata": {},
   "source": [
    "4. collect variables from tables"
   ]
  },
  {
   "cell_type": "code",
   "execution_count": 53,
   "metadata": {},
   "outputs": [
    {
     "data": {
      "text/plain": [
       "['comp_0_3', 'rep_alt']"
      ]
     },
     "execution_count": 53,
     "metadata": {},
     "output_type": "execute_result"
    }
   ],
   "source": [
    "within_f = []\n",
    "if \"Innersubjektfaktoren\" in captions:\n",
    "    df = tables[\"Innersubjektfaktoren\"]\n",
    "    within_f = [ind[1] for ind in df.columns[:-1]]\n",
    "within_f"
   ]
  },
  {
   "cell_type": "code",
   "execution_count": 54,
   "metadata": {},
   "outputs": [
    {
     "data": {
      "text/plain": [
       "['group']"
      ]
     },
     "execution_count": 54,
     "metadata": {},
     "output_type": "execute_result"
    }
   ],
   "source": [
    "between_f = []\n",
    "if \"Zwischensubjektfaktoren\" in captions:\n",
    "    df = tables[\"Zwischensubjektfaktoren\"]\n",
    "    # TODO implement multiple groups\n",
    "    between_f.append(df.iloc[0,0])\n",
    "    \n",
    "between_f"
   ]
  },
  {
   "cell_type": "markdown",
   "metadata": {},
   "source": [
    "3. load in the data by running the cell below"
   ]
  },
  {
   "cell_type": "code",
   "execution_count": 55,
   "metadata": {},
   "outputs": [
    {
     "data": {
      "text/plain": [
       "['Hinweise',\n",
       " 'Innersubjektfaktoren',\n",
       " 'Zwischensubjektfaktoren',\n",
       " 'Deskriptive Statistiken',\n",
       " 'Multivariate Tests',\n",
       " 'Mauchly-Test auf Sphärizität',\n",
       " 'Tests der Innersubjekteffekte',\n",
       " 'Tests der Innersubjektkontraste',\n",
       " 'Tests der Zwischensubjekteffekte',\n",
       " '1. Gesamtmittelwert',\n",
       " 'Schätzungen',\n",
       " 'Paarweise Vergleiche',\n",
       " 'Tests auf Univariate',\n",
       " 'Schätzungen',\n",
       " 'Paarweise Vergleiche',\n",
       " 'Multivariate Tests',\n",
       " 'Schätzungen',\n",
       " 'Paarweise Vergleiche',\n",
       " 'Multivariate Tests',\n",
       " '5. group * comp_0_3',\n",
       " '6. group * rep_alt',\n",
       " '7. comp_0_3 * rep_alt',\n",
       " '8. group * comp_0_3 * rep_alt']"
      ]
     },
     "execution_count": 55,
     "metadata": {},
     "output_type": "execute_result"
    }
   ],
   "source": [
    "captions"
   ]
  },
  {
   "cell_type": "code",
   "execution_count": 56,
   "metadata": {},
   "outputs": [],
   "source": [
    "ANOVA_df_within = tables[\"Tests der Innersubjekteffekte\"]"
   ]
  },
  {
   "cell_type": "markdown",
   "metadata": {},
   "source": [
    "4. name the factors as appearing in the article, by running the cell below:"
   ]
  },
  {
   "cell_type": "code",
   "execution_count": 57,
   "metadata": {},
   "outputs": [
    {
     "name": "stdout",
     "output_type": "stream",
     "text": [
      "Enter a name for the within factor 'comp_0_3':a\n",
      "Enter a name for the within factor 'rep_alt':b\n",
      "Enter a name for the between factor 'group':c\n"
     ]
    }
   ],
   "source": [
    "within_factors_text = {}\n",
    "for fac in within_f:\n",
    "    within_factors_text[fac] = input(f\"Enter a name for the within factor '{fac}':\")\n",
    "    \n",
    "between_factors_text = {}\n",
    "for fac in between_f:\n",
    "    between_factors_text[fac] = input(f\"Enter a name for the between factor '{fac}':\")"
   ]
  },
  {
   "cell_type": "markdown",
   "metadata": {},
   "source": [
    "5. run the cell below and copy the output as necessary in your manuscript"
   ]
  },
  {
   "cell_type": "code",
   "execution_count": 58,
   "metadata": {},
   "outputs": [
    {
     "data": {
      "text/html": [
       "<div>\n",
       "<style scoped>\n",
       "    .dataframe tbody tr th:only-of-type {\n",
       "        vertical-align: middle;\n",
       "    }\n",
       "\n",
       "    .dataframe tbody tr th {\n",
       "        vertical-align: top;\n",
       "    }\n",
       "\n",
       "    .dataframe thead tr th {\n",
       "        text-align: left;\n",
       "    }\n",
       "</style>\n",
       "<table border=\"1\" class=\"dataframe\">\n",
       "  <thead>\n",
       "    <tr>\n",
       "      <th></th>\n",
       "      <th colspan=\"10\" halign=\"left\">Maß:MASS_1</th>\n",
       "    </tr>\n",
       "    <tr>\n",
       "      <th></th>\n",
       "      <th>Quelle</th>\n",
       "      <th>Quelle.1</th>\n",
       "      <th>Typ III Quadratsumme</th>\n",
       "      <th>df</th>\n",
       "      <th>Mittel der Quadrate</th>\n",
       "      <th>F</th>\n",
       "      <th>Sig.</th>\n",
       "      <th>Partielles Eta-Quadrat</th>\n",
       "      <th>Dezentr. Parameter</th>\n",
       "      <th>Beobachtete Trennschärfea</th>\n",
       "    </tr>\n",
       "  </thead>\n",
       "  <tbody>\n",
       "    <tr>\n",
       "      <th>0</th>\n",
       "      <td>comp_0_3</td>\n",
       "      <td>Sphärizität angenommen</td>\n",
       "      <td>4171946</td>\n",
       "      <td>1</td>\n",
       "      <td>4171946</td>\n",
       "      <td>1286</td>\n",
       "      <td>259</td>\n",
       "      <td>009</td>\n",
       "      <td>1286</td>\n",
       "      <td>203</td>\n",
       "    </tr>\n",
       "    <tr>\n",
       "      <th>1</th>\n",
       "      <td>comp_0_3</td>\n",
       "      <td>Greenhouse-Geisser</td>\n",
       "      <td>4171946</td>\n",
       "      <td>1000</td>\n",
       "      <td>4171946</td>\n",
       "      <td>1286</td>\n",
       "      <td>259</td>\n",
       "      <td>009</td>\n",
       "      <td>1286</td>\n",
       "      <td>203</td>\n",
       "    </tr>\n",
       "    <tr>\n",
       "      <th>2</th>\n",
       "      <td>comp_0_3</td>\n",
       "      <td>Huynh-Feldt (HF)</td>\n",
       "      <td>4171946</td>\n",
       "      <td>1000</td>\n",
       "      <td>4171946</td>\n",
       "      <td>1286</td>\n",
       "      <td>259</td>\n",
       "      <td>009</td>\n",
       "      <td>1286</td>\n",
       "      <td>203</td>\n",
       "    </tr>\n",
       "    <tr>\n",
       "      <th>3</th>\n",
       "      <td>comp_0_3</td>\n",
       "      <td>Untergrenze</td>\n",
       "      <td>4171946</td>\n",
       "      <td>1000</td>\n",
       "      <td>4171946</td>\n",
       "      <td>1286</td>\n",
       "      <td>259</td>\n",
       "      <td>009</td>\n",
       "      <td>1286</td>\n",
       "      <td>203</td>\n",
       "    </tr>\n",
       "    <tr>\n",
       "      <th>4</th>\n",
       "      <td>comp_0_3 * group</td>\n",
       "      <td>Sphärizität angenommen</td>\n",
       "      <td>172088</td>\n",
       "      <td>1</td>\n",
       "      <td>172088</td>\n",
       "      <td>053</td>\n",
       "      <td>818</td>\n",
       "      <td>000</td>\n",
       "      <td>053</td>\n",
       "      <td>056</td>\n",
       "    </tr>\n",
       "    <tr>\n",
       "      <th>5</th>\n",
       "      <td>comp_0_3 * group</td>\n",
       "      <td>Greenhouse-Geisser</td>\n",
       "      <td>172088</td>\n",
       "      <td>1000</td>\n",
       "      <td>172088</td>\n",
       "      <td>053</td>\n",
       "      <td>818</td>\n",
       "      <td>000</td>\n",
       "      <td>053</td>\n",
       "      <td>056</td>\n",
       "    </tr>\n",
       "    <tr>\n",
       "      <th>6</th>\n",
       "      <td>comp_0_3 * group</td>\n",
       "      <td>Huynh-Feldt (HF)</td>\n",
       "      <td>172088</td>\n",
       "      <td>1000</td>\n",
       "      <td>172088</td>\n",
       "      <td>053</td>\n",
       "      <td>818</td>\n",
       "      <td>000</td>\n",
       "      <td>053</td>\n",
       "      <td>056</td>\n",
       "    </tr>\n",
       "    <tr>\n",
       "      <th>7</th>\n",
       "      <td>comp_0_3 * group</td>\n",
       "      <td>Untergrenze</td>\n",
       "      <td>172088</td>\n",
       "      <td>1000</td>\n",
       "      <td>172088</td>\n",
       "      <td>053</td>\n",
       "      <td>818</td>\n",
       "      <td>000</td>\n",
       "      <td>053</td>\n",
       "      <td>056</td>\n",
       "    </tr>\n",
       "    <tr>\n",
       "      <th>8</th>\n",
       "      <td>Fehler(comp_0_3)</td>\n",
       "      <td>Sphärizität angenommen</td>\n",
       "      <td>473782086</td>\n",
       "      <td>146</td>\n",
       "      <td>3245083</td>\n",
       "      <td>NaN</td>\n",
       "      <td>NaN</td>\n",
       "      <td>NaN</td>\n",
       "      <td>NaN</td>\n",
       "      <td>NaN</td>\n",
       "    </tr>\n",
       "    <tr>\n",
       "      <th>9</th>\n",
       "      <td>Fehler(comp_0_3)</td>\n",
       "      <td>Greenhouse-Geisser</td>\n",
       "      <td>473782086</td>\n",
       "      <td>146000</td>\n",
       "      <td>3245083</td>\n",
       "      <td>NaN</td>\n",
       "      <td>NaN</td>\n",
       "      <td>NaN</td>\n",
       "      <td>NaN</td>\n",
       "      <td>NaN</td>\n",
       "    </tr>\n",
       "  </tbody>\n",
       "</table>\n",
       "</div>"
      ],
      "text/plain": [
       "         Maß:MASS_1                                                       \\\n",
       "             Quelle                Quelle.1 Typ III Quadratsumme      df   \n",
       "0          comp_0_3  Sphärizität angenommen              4171946       1   \n",
       "1          comp_0_3      Greenhouse-Geisser              4171946    1000   \n",
       "2          comp_0_3        Huynh-Feldt (HF)              4171946    1000   \n",
       "3          comp_0_3             Untergrenze              4171946    1000   \n",
       "4  comp_0_3 * group  Sphärizität angenommen               172088       1   \n",
       "5  comp_0_3 * group      Greenhouse-Geisser               172088    1000   \n",
       "6  comp_0_3 * group        Huynh-Feldt (HF)               172088    1000   \n",
       "7  comp_0_3 * group             Untergrenze               172088    1000   \n",
       "8  Fehler(comp_0_3)  Sphärizität angenommen            473782086     146   \n",
       "9  Fehler(comp_0_3)      Greenhouse-Geisser            473782086  146000   \n",
       "\n",
       "                                                                            \\\n",
       "  Mittel der Quadrate     F Sig. Partielles Eta-Quadrat Dezentr. Parameter   \n",
       "0             4171946  1286  259                    009               1286   \n",
       "1             4171946  1286  259                    009               1286   \n",
       "2             4171946  1286  259                    009               1286   \n",
       "3             4171946  1286  259                    009               1286   \n",
       "4              172088   053  818                    000                053   \n",
       "5              172088   053  818                    000                053   \n",
       "6              172088   053  818                    000                053   \n",
       "7              172088   053  818                    000                053   \n",
       "8             3245083   NaN  NaN                    NaN                NaN   \n",
       "9             3245083   NaN  NaN                    NaN                NaN   \n",
       "\n",
       "                             \n",
       "  Beobachtete Trennschärfea  \n",
       "0                       203  \n",
       "1                       203  \n",
       "2                       203  \n",
       "3                       203  \n",
       "4                       056  \n",
       "5                       056  \n",
       "6                       056  \n",
       "7                       056  \n",
       "8                       NaN  \n",
       "9                       NaN  "
      ]
     },
     "execution_count": 58,
     "metadata": {},
     "output_type": "execute_result"
    }
   ],
   "source": [
    "ANOVA_df_within.head(10)"
   ]
  },
  {
   "cell_type": "code",
   "execution_count": 59,
   "metadata": {},
   "outputs": [
    {
     "data": {
      "text/plain": [
       "0                                               259\n",
       "1                                               259\n",
       "2                                               259\n",
       "3                                               259\n",
       "4                                               818\n",
       "5                                               818\n",
       "6                                               818\n",
       "7                                               818\n",
       "8                                               NaN\n",
       "9                                               NaN\n",
       "10                                              NaN\n",
       "11                                              NaN\n",
       "12                                              003\n",
       "13                                              003\n",
       "14                                              003\n",
       "15                                              003\n",
       "16                                              808\n",
       "17                                              808\n",
       "18                                              808\n",
       "19                                              808\n",
       "20                                              NaN\n",
       "21                                              NaN\n",
       "22                                              NaN\n",
       "23                                              NaN\n",
       "24                                              000\n",
       "25                                              000\n",
       "26                                              000\n",
       "27                                              000\n",
       "28                                              831\n",
       "29                                              831\n",
       "30                                              831\n",
       "31                                              831\n",
       "32                                              NaN\n",
       "33                                              NaN\n",
       "34                                              NaN\n",
       "35                                              NaN\n",
       "36    a. Unter Verwendung von Alpha = ,05 berechnet\n",
       "Name: Sig., dtype: object"
      ]
     },
     "execution_count": 59,
     "metadata": {},
     "output_type": "execute_result"
    }
   ],
   "source": [
    "ANOVA_df_within[\"Maß:MASS_1\"][\"Sig.\"]"
   ]
  },
  {
   "cell_type": "code",
   "execution_count": 62,
   "metadata": {},
   "outputs": [],
   "source": [
    "def setup_GG_df(ANOVA_df_w):\n",
    "    # display factor names for all rows\n",
    "    \"\"\"\n",
    "    sources = [s.rstrip() for s in ANOVA_df[\"Unnamed: 0\"].tolist()]\n",
    "    for i, source in enumerate(sources[1:]):\n",
    "        sources[i+1] = sources[i] if len(sources[i+1]) == 0 else sources[i+1]\n",
    "    ANOVA_df[\"Unnamed: 0\"] = sources\n",
    "    \"\"\"\n",
    "    \n",
    "    ANOVA_df_w.columns = ANOVA_df_w.columns.droplevel()\n",
    "\n",
    "    # limit table to Greenhouse-Geisser correction\n",
    "    #ANOVA_df[\"Quelle\"] = [e.rstrip() for e in ANOVA_df[\"Quelle\"].tolist()]\n",
    "    ANOVA_GG_df = ANOVA_df_w[ANOVA_df_w[\"Quelle.1\"] == \"Greenhouse-Geisser\"]\n",
    "\n",
    "    # split the error table\n",
    "    ANOVA_GG_effects_df = ANOVA_GG_df[~ANOVA_GG_df[\"Quelle\"].str.contains(\"Fehler\")]\n",
    "    ANOVA_GG_errors_df = ANOVA_GG_df[ANOVA_GG_df[\"Quelle\"].str.contains(\"Fehler\")]\n",
    "    #ANOVA_GG_errors_df.set_index(\"Unnamed: 0\", inplace=True)\n",
    "\n",
    "    # sort non-significant table to p values\n",
    "    ANOVA_GG_effects_df[\"Sig.\"] = [int(v) for v in ANOVA_GG_effects_df[\"Sig.\"].tolist()]\n",
    "    #print([int(v) for v in ANOVA_GG_effects_df[\"Maß:MASS_1\"][\"Sig.\"].tolist()])\n",
    "    ANOVA_GG_effects_df[\"Sig.\"] = pd.to_numeric(ANOVA_GG_effects_df[\"Sig.\"])\n",
    "    print(ANOVA_GG_effects_df[\"Sig.\"].tolist())\n",
    "    ANOVA_GG_sig_df = ANOVA_GG_effects_df[ANOVA_GG_effects_df[\"Sig.\"] <= 50]\n",
    "    ANOVA_GG_sig_df.index = list(range(len(ANOVA_GG_sig_df)))\n",
    "    ANOVA_GG_nonsig_df = ANOVA_GG_effects_df[ANOVA_GG_effects_df[\"Sig.\"] > 50]\n",
    "    ANOVA_GG_nonsig_df.sort_values(\"Sig.\", inplace=True)\n",
    "    ANOVA_GG_nonsig_df.index = list(range(len(ANOVA_GG_nonsig_df)))\n",
    "\n",
    "    return [ANOVA_GG_sig_df, ANOVA_GG_nonsig_df]"
   ]
  },
  {
   "cell_type": "code",
   "execution_count": 66,
   "metadata": {},
   "outputs": [
    {
     "data": {
      "text/html": [
       "<div>\n",
       "<style scoped>\n",
       "    .dataframe tbody tr th:only-of-type {\n",
       "        vertical-align: middle;\n",
       "    }\n",
       "\n",
       "    .dataframe tbody tr th {\n",
       "        vertical-align: top;\n",
       "    }\n",
       "\n",
       "    .dataframe thead tr th {\n",
       "        text-align: left;\n",
       "    }\n",
       "</style>\n",
       "<table border=\"1\" class=\"dataframe\">\n",
       "  <thead>\n",
       "    <tr>\n",
       "      <th></th>\n",
       "      <th colspan=\"9\" halign=\"left\">Maß:MASS_1</th>\n",
       "    </tr>\n",
       "    <tr>\n",
       "      <th></th>\n",
       "      <th colspan=\"9\" halign=\"left\">Transformierte Variable</th>\n",
       "    </tr>\n",
       "    <tr>\n",
       "      <th></th>\n",
       "      <th colspan=\"9\" halign=\"left\">Mittel</th>\n",
       "    </tr>\n",
       "    <tr>\n",
       "      <th></th>\n",
       "      <th>Quelle</th>\n",
       "      <th>Typ III Quadratsumme</th>\n",
       "      <th>df</th>\n",
       "      <th>Mittel der Quadrate</th>\n",
       "      <th>F</th>\n",
       "      <th>Sig.</th>\n",
       "      <th>Partielles Eta-Quadrat</th>\n",
       "      <th>Dezentr. Parameter</th>\n",
       "      <th>Beobachtete Trennschärfea</th>\n",
       "    </tr>\n",
       "  </thead>\n",
       "  <tbody>\n",
       "    <tr>\n",
       "      <th>0</th>\n",
       "      <td>Konstanter Term</td>\n",
       "      <td>193241300601</td>\n",
       "      <td>1</td>\n",
       "      <td>193241300601</td>\n",
       "      <td>2711510</td>\n",
       "      <td>000</td>\n",
       "      <td>949</td>\n",
       "      <td>2711510</td>\n",
       "      <td>1000</td>\n",
       "    </tr>\n",
       "    <tr>\n",
       "      <th>1</th>\n",
       "      <td>group</td>\n",
       "      <td>37038424</td>\n",
       "      <td>1</td>\n",
       "      <td>37038424</td>\n",
       "      <td>520</td>\n",
       "      <td>472</td>\n",
       "      <td>004</td>\n",
       "      <td>520</td>\n",
       "      <td>111</td>\n",
       "    </tr>\n",
       "    <tr>\n",
       "      <th>2</th>\n",
       "      <td>Fehler</td>\n",
       "      <td>10404986469</td>\n",
       "      <td>146</td>\n",
       "      <td>71267031</td>\n",
       "      <td>NaN</td>\n",
       "      <td>NaN</td>\n",
       "      <td>NaN</td>\n",
       "      <td>NaN</td>\n",
       "      <td>NaN</td>\n",
       "    </tr>\n",
       "    <tr>\n",
       "      <th>3</th>\n",
       "      <td>a. Unter Verwendung von Alpha = ,05 berechnet</td>\n",
       "      <td>a. Unter Verwendung von Alpha = ,05 berechnet</td>\n",
       "      <td>a. Unter Verwendung von Alpha = ,05 berechnet</td>\n",
       "      <td>a. Unter Verwendung von Alpha = ,05 berechnet</td>\n",
       "      <td>a. Unter Verwendung von Alpha = ,05 berechnet</td>\n",
       "      <td>a. Unter Verwendung von Alpha = ,05 berechnet</td>\n",
       "      <td>a. Unter Verwendung von Alpha = ,05 berechnet</td>\n",
       "      <td>a. Unter Verwendung von Alpha = ,05 berechnet</td>\n",
       "      <td>a. Unter Verwendung von Alpha = ,05 berechnet</td>\n",
       "    </tr>\n",
       "  </tbody>\n",
       "</table>\n",
       "</div>"
      ],
      "text/plain": [
       "                                      Maß:MASS_1  \\\n",
       "                         Transformierte Variable   \n",
       "                                          Mittel   \n",
       "                                          Quelle   \n",
       "0                                Konstanter Term   \n",
       "1                                          group   \n",
       "2                                         Fehler   \n",
       "3  a. Unter Verwendung von Alpha = ,05 berechnet   \n",
       "\n",
       "                                                  \\\n",
       "                                                   \n",
       "                                                   \n",
       "                            Typ III Quadratsumme   \n",
       "0                                   193241300601   \n",
       "1                                       37038424   \n",
       "2                                    10404986469   \n",
       "3  a. Unter Verwendung von Alpha = ,05 berechnet   \n",
       "\n",
       "                                                  \\\n",
       "                                                   \n",
       "                                                   \n",
       "                                              df   \n",
       "0                                              1   \n",
       "1                                              1   \n",
       "2                                            146   \n",
       "3  a. Unter Verwendung von Alpha = ,05 berechnet   \n",
       "\n",
       "                                                  \\\n",
       "                                                   \n",
       "                                                   \n",
       "                             Mittel der Quadrate   \n",
       "0                                   193241300601   \n",
       "1                                       37038424   \n",
       "2                                       71267031   \n",
       "3  a. Unter Verwendung von Alpha = ,05 berechnet   \n",
       "\n",
       "                                                  \\\n",
       "                                                   \n",
       "                                                   \n",
       "                                               F   \n",
       "0                                        2711510   \n",
       "1                                            520   \n",
       "2                                            NaN   \n",
       "3  a. Unter Verwendung von Alpha = ,05 berechnet   \n",
       "\n",
       "                                                  \\\n",
       "                                                   \n",
       "                                                   \n",
       "                                            Sig.   \n",
       "0                                            000   \n",
       "1                                            472   \n",
       "2                                            NaN   \n",
       "3  a. Unter Verwendung von Alpha = ,05 berechnet   \n",
       "\n",
       "                                                  \\\n",
       "                                                   \n",
       "                                                   \n",
       "                          Partielles Eta-Quadrat   \n",
       "0                                            949   \n",
       "1                                            004   \n",
       "2                                            NaN   \n",
       "3  a. Unter Verwendung von Alpha = ,05 berechnet   \n",
       "\n",
       "                                                  \\\n",
       "                                                   \n",
       "                                                   \n",
       "                              Dezentr. Parameter   \n",
       "0                                        2711510   \n",
       "1                                            520   \n",
       "2                                            NaN   \n",
       "3  a. Unter Verwendung von Alpha = ,05 berechnet   \n",
       "\n",
       "                                                  \n",
       "                                                  \n",
       "                                                  \n",
       "                       Beobachtete Trennschärfea  \n",
       "0                                           1000  \n",
       "1                                            111  \n",
       "2                                            NaN  \n",
       "3  a. Unter Verwendung von Alpha = ,05 berechnet  "
      ]
     },
     "execution_count": 66,
     "metadata": {},
     "output_type": "execute_result"
    }
   ],
   "source": [
    "tables[\"Tests der Zwischensubjekteffekte\"]"
   ]
  },
  {
   "cell_type": "code",
   "execution_count": 63,
   "metadata": {},
   "outputs": [
    {
     "ename": "ValueError",
     "evalue": "Cannot remove 1 levels from an index with 1 levels: at least one level must be left.",
     "output_type": "error",
     "traceback": [
      "\u001b[1;31m---------------------------------------------------------------------------\u001b[0m",
      "\u001b[1;31mValueError\u001b[0m                                Traceback (most recent call last)",
      "\u001b[1;32m<ipython-input-63-c03e236476a4>\u001b[0m in \u001b[0;36m<module>\u001b[1;34m\u001b[0m\n\u001b[1;32m----> 1\u001b[1;33m \u001b[0msetup_GG_df\u001b[0m\u001b[1;33m(\u001b[0m\u001b[0mANOVA_df_within\u001b[0m\u001b[1;33m)\u001b[0m\u001b[1;33m\u001b[0m\u001b[1;33m\u001b[0m\u001b[0m\n\u001b[0m",
      "\u001b[1;32m<ipython-input-62-f973a3bd81ca>\u001b[0m in \u001b[0;36msetup_GG_df\u001b[1;34m(ANOVA_df_w)\u001b[0m\n\u001b[0;32m      8\u001b[0m     \"\"\"\n\u001b[0;32m      9\u001b[0m \u001b[1;33m\u001b[0m\u001b[0m\n\u001b[1;32m---> 10\u001b[1;33m     \u001b[0mANOVA_df_w\u001b[0m\u001b[1;33m.\u001b[0m\u001b[0mcolumns\u001b[0m \u001b[1;33m=\u001b[0m \u001b[0mANOVA_df_w\u001b[0m\u001b[1;33m.\u001b[0m\u001b[0mcolumns\u001b[0m\u001b[1;33m.\u001b[0m\u001b[0mdroplevel\u001b[0m\u001b[1;33m(\u001b[0m\u001b[1;33m)\u001b[0m\u001b[1;33m\u001b[0m\u001b[1;33m\u001b[0m\u001b[0m\n\u001b[0m\u001b[0;32m     11\u001b[0m \u001b[1;33m\u001b[0m\u001b[0m\n\u001b[0;32m     12\u001b[0m     \u001b[1;31m# limit table to Greenhouse-Geisser correction\u001b[0m\u001b[1;33m\u001b[0m\u001b[1;33m\u001b[0m\u001b[1;33m\u001b[0m\u001b[0m\n",
      "\u001b[1;32mC:\\Anaconda3\\lib\\site-packages\\pandas\\core\\indexes\\base.py\u001b[0m in \u001b[0;36mdroplevel\u001b[1;34m(self, level)\u001b[0m\n\u001b[0;32m   1509\u001b[0m             \u001b[1;32mreturn\u001b[0m \u001b[0mself\u001b[0m\u001b[1;33m\u001b[0m\u001b[1;33m\u001b[0m\u001b[0m\n\u001b[0;32m   1510\u001b[0m         \u001b[1;32mif\u001b[0m \u001b[0mlen\u001b[0m\u001b[1;33m(\u001b[0m\u001b[0mlevel\u001b[0m\u001b[1;33m)\u001b[0m \u001b[1;33m>=\u001b[0m \u001b[0mself\u001b[0m\u001b[1;33m.\u001b[0m\u001b[0mnlevels\u001b[0m\u001b[1;33m:\u001b[0m\u001b[1;33m\u001b[0m\u001b[1;33m\u001b[0m\u001b[0m\n\u001b[1;32m-> 1511\u001b[1;33m             raise ValueError(\n\u001b[0m\u001b[0;32m   1512\u001b[0m                 \u001b[1;34mf\"Cannot remove {len(level)} levels from an index with {self.nlevels} \"\u001b[0m\u001b[1;33m\u001b[0m\u001b[1;33m\u001b[0m\u001b[0m\n\u001b[0;32m   1513\u001b[0m                 \u001b[1;34m\"levels: at least one level must be left.\"\u001b[0m\u001b[1;33m\u001b[0m\u001b[1;33m\u001b[0m\u001b[0m\n",
      "\u001b[1;31mValueError\u001b[0m: Cannot remove 1 levels from an index with 1 levels: at least one level must be left."
     ]
    }
   ],
   "source": [
    "setup_GG_df(ANOVA_df_within)"
   ]
  },
  {
   "cell_type": "code",
   "execution_count": 21,
   "metadata": {},
   "outputs": [],
   "source": [
    "# setup the html writer function\n",
    "from IPython.display import HTML\n",
    "def write_html_line(effect_name, df1, df2, F_val, p_val, eta_val):\n",
    "    # prepare standard strings\n",
    "    all_other = \"\"\n",
    "    eta_part = \"; &#951;<sub>p</sub><sup>2</sup> = \" + eta_val\n",
    "    p_sign = \"=\"\n",
    "    F_sign = \"=\"\n",
    "    # special cases\n",
    "    if p_val < 0.001:\n",
    "        p_sign = \"&#60;\"\n",
    "        p_val = \".001\"\n",
    "    elif p_val > alpha_level:\n",
    "        # non significant:\n",
    "        p_sign = \"&#8805;\"\n",
    "        F_sign = \"&#8804;\"\n",
    "        all_other = \"All other \"\n",
    "        eta_part = \"\"\n",
    "    # formatting\n",
    "    df1 = '%g'%(df1)\n",
    "    df2 = '%g'%(df2)\n",
    "    html_text = \"\"\"\n",
    "    <b>{effect_name}</b> <br>\n",
    "    {all_other}F({df1}, {df2}) {F_sign} {F_val}; p {p_sign} {p_val}{eta_part} <br>\n",
    "    \"\"\"\n",
    "    # include the variables\n",
    "    return html_text.format(effect_name=effect_name, \n",
    "                            all_other=all_other, \n",
    "                            df1=df1, \n",
    "                            df2=df2, \n",
    "                            F_sign=F_sign, \n",
    "                            F_val=F_val, \n",
    "                            p_sign=p_sign, \n",
    "                            p_val=p_val, \n",
    "                            eta_part=eta_part)"
   ]
  },
  {
   "cell_type": "code",
   "execution_count": 22,
   "metadata": {},
   "outputs": [],
   "source": [
    "# gather the important infos\n",
    "\n",
    "def print_sign_results(ANOVA_GG_sig_df):\n",
    "    display(HTML('<b>SIGNIFICANT RESULTS</b>'))\n",
    "\n",
    "    for i in range(len(ANOVA_GG_sig_df)):\n",
    "        factor_name = \" &#215 \".join([factors_text[p] for p in ANOVA_GG_sig_df[\"Unnamed: 0\"][i].split(\" * \")])\n",
    "        html_sig = write_html_line(factor_name, \n",
    "            float(ANOVA_GG_sig_df[\"df\"][i]), \n",
    "            float(ANOVA_GG_errors_df[\"df\"][\"Fehler(\" + \"*\".join(ANOVA_GG_sig_df[\"Unnamed: 0\"][i].split(\" * \")) + \")\"]),\n",
    "            float(ANOVA_GG_sig_df[\"F\"][i]), \n",
    "            ANOVA_GG_sig_df[\"Sig.\"][i], \n",
    "            ANOVA_GG_sig_df[\"Partielles Eta-Quadrat\"][i]\n",
    "           )\n",
    "        display(HTML(html_sig))\n",
    "\n",
    "def print_nonsign_results(ANOVA_GG_sig_df):\n",
    "    display(HTML('<b>NON-SIGNIFICANT RESULTS</b>'))\n",
    "\n",
    "    factor_name = \" &#215 \".join([factors_text[p] for p in ANOVA_GG_nonsig_df[\"Unnamed: 0\"][0].split(\" * \")])\n",
    "    html_nonsig = write_html_line(factor_name, \n",
    "        float(ANOVA_GG_nonsig_df[\"df\"][0]), \n",
    "        float(ANOVA_GG_errors_df[\"df\"][\"Fehler(\" + \"*\".join(ANOVA_GG_nonsig_df[\"Unnamed: 0\"][0].split(\" * \")) + \")\"]),\n",
    "        float(ANOVA_GG_nonsig_df[\"F\"][0]), \n",
    "        ANOVA_GG_nonsig_df[\"Sig.\"][0], \n",
    "        ANOVA_GG_nonsig_df[\"Partielles Eta-Quadrat\"][0]\n",
    "       )\n",
    "    display(HTML(html_nonsig))"
   ]
  },
  {
   "cell_type": "code",
   "execution_count": 19,
   "metadata": {},
   "outputs": [
    {
     "ename": "KeyError",
     "evalue": "'Fehler(comp_0_3*rep_alt*group)'",
     "output_type": "error",
     "traceback": [
      "\u001b[1;31m---------------------------------------------------------------------------\u001b[0m",
      "\u001b[1;31mTypeError\u001b[0m                                 Traceback (most recent call last)",
      "\u001b[1;32mC:\\Anaconda3\\lib\\site-packages\\pandas\\core\\indexes\\base.py\u001b[0m in \u001b[0;36mget_value\u001b[1;34m(self, series, key)\u001b[0m\n\u001b[0;32m   4410\u001b[0m             \u001b[1;32mtry\u001b[0m\u001b[1;33m:\u001b[0m\u001b[1;33m\u001b[0m\u001b[1;33m\u001b[0m\u001b[0m\n\u001b[1;32m-> 4411\u001b[1;33m                 \u001b[1;32mreturn\u001b[0m \u001b[0mlibindex\u001b[0m\u001b[1;33m.\u001b[0m\u001b[0mget_value_at\u001b[0m\u001b[1;33m(\u001b[0m\u001b[0ms\u001b[0m\u001b[1;33m,\u001b[0m \u001b[0mkey\u001b[0m\u001b[1;33m)\u001b[0m\u001b[1;33m\u001b[0m\u001b[1;33m\u001b[0m\u001b[0m\n\u001b[0m\u001b[0;32m   4412\u001b[0m             \u001b[1;32mexcept\u001b[0m \u001b[0mIndexError\u001b[0m\u001b[1;33m:\u001b[0m\u001b[1;33m\u001b[0m\u001b[1;33m\u001b[0m\u001b[0m\n",
      "\u001b[1;32mpandas\\_libs\\index.pyx\u001b[0m in \u001b[0;36mpandas._libs.index.get_value_at\u001b[1;34m()\u001b[0m\n",
      "\u001b[1;32mpandas\\_libs\\index.pyx\u001b[0m in \u001b[0;36mpandas._libs.index.get_value_at\u001b[1;34m()\u001b[0m\n",
      "\u001b[1;32mpandas\\_libs\\util.pxd\u001b[0m in \u001b[0;36mpandas._libs.util.get_value_at\u001b[1;34m()\u001b[0m\n",
      "\u001b[1;32mpandas\\_libs\\util.pxd\u001b[0m in \u001b[0;36mpandas._libs.util.validate_indexer\u001b[1;34m()\u001b[0m\n",
      "\u001b[1;31mTypeError\u001b[0m: 'str' object cannot be interpreted as an integer",
      "\nDuring handling of the above exception, another exception occurred:\n",
      "\u001b[1;31mKeyError\u001b[0m                                  Traceback (most recent call last)",
      "\u001b[1;32m<ipython-input-19-7c325d7fb433>\u001b[0m in \u001b[0;36m<module>\u001b[1;34m\u001b[0m\n\u001b[1;32m----> 1\u001b[1;33m \u001b[0mANOVA_GG_errors_df\u001b[0m\u001b[1;33m[\u001b[0m\u001b[1;34m\"df\"\u001b[0m\u001b[1;33m]\u001b[0m\u001b[1;33m[\u001b[0m\u001b[1;34m\"Fehler(\"\u001b[0m \u001b[1;33m+\u001b[0m \u001b[1;34m\"*\"\u001b[0m\u001b[1;33m.\u001b[0m\u001b[0mjoin\u001b[0m\u001b[1;33m(\u001b[0m\u001b[0mANOVA_GG_sig_df\u001b[0m\u001b[1;33m[\u001b[0m\u001b[1;34m\"Unnamed: 0\"\u001b[0m\u001b[1;33m]\u001b[0m\u001b[1;33m[\u001b[0m\u001b[0mi\u001b[0m\u001b[1;33m]\u001b[0m\u001b[1;33m.\u001b[0m\u001b[0msplit\u001b[0m\u001b[1;33m(\u001b[0m\u001b[1;34m\" * \"\u001b[0m\u001b[1;33m)\u001b[0m\u001b[1;33m)\u001b[0m \u001b[1;33m+\u001b[0m \u001b[1;34m\")\"\u001b[0m\u001b[1;33m]\u001b[0m\u001b[1;33m\u001b[0m\u001b[1;33m\u001b[0m\u001b[0m\n\u001b[0m",
      "\u001b[1;32mC:\\Anaconda3\\lib\\site-packages\\pandas\\core\\series.py\u001b[0m in \u001b[0;36m__getitem__\u001b[1;34m(self, key)\u001b[0m\n\u001b[0;32m    869\u001b[0m         \u001b[0mkey\u001b[0m \u001b[1;33m=\u001b[0m \u001b[0mcom\u001b[0m\u001b[1;33m.\u001b[0m\u001b[0mapply_if_callable\u001b[0m\u001b[1;33m(\u001b[0m\u001b[0mkey\u001b[0m\u001b[1;33m,\u001b[0m \u001b[0mself\u001b[0m\u001b[1;33m)\u001b[0m\u001b[1;33m\u001b[0m\u001b[1;33m\u001b[0m\u001b[0m\n\u001b[0;32m    870\u001b[0m         \u001b[1;32mtry\u001b[0m\u001b[1;33m:\u001b[0m\u001b[1;33m\u001b[0m\u001b[1;33m\u001b[0m\u001b[0m\n\u001b[1;32m--> 871\u001b[1;33m             \u001b[0mresult\u001b[0m \u001b[1;33m=\u001b[0m \u001b[0mself\u001b[0m\u001b[1;33m.\u001b[0m\u001b[0mindex\u001b[0m\u001b[1;33m.\u001b[0m\u001b[0mget_value\u001b[0m\u001b[1;33m(\u001b[0m\u001b[0mself\u001b[0m\u001b[1;33m,\u001b[0m \u001b[0mkey\u001b[0m\u001b[1;33m)\u001b[0m\u001b[1;33m\u001b[0m\u001b[1;33m\u001b[0m\u001b[0m\n\u001b[0m\u001b[0;32m    872\u001b[0m \u001b[1;33m\u001b[0m\u001b[0m\n\u001b[0;32m    873\u001b[0m             \u001b[1;32mif\u001b[0m \u001b[1;32mnot\u001b[0m \u001b[0mis_scalar\u001b[0m\u001b[1;33m(\u001b[0m\u001b[0mresult\u001b[0m\u001b[1;33m)\u001b[0m\u001b[1;33m:\u001b[0m\u001b[1;33m\u001b[0m\u001b[1;33m\u001b[0m\u001b[0m\n",
      "\u001b[1;32mC:\\Anaconda3\\lib\\site-packages\\pandas\\core\\indexes\\base.py\u001b[0m in \u001b[0;36mget_value\u001b[1;34m(self, series, key)\u001b[0m\n\u001b[0;32m   4417\u001b[0m                     \u001b[1;32mraise\u001b[0m \u001b[0mInvalidIndexError\u001b[0m\u001b[1;33m(\u001b[0m\u001b[0mkey\u001b[0m\u001b[1;33m)\u001b[0m\u001b[1;33m\u001b[0m\u001b[1;33m\u001b[0m\u001b[0m\n\u001b[0;32m   4418\u001b[0m                 \u001b[1;32melse\u001b[0m\u001b[1;33m:\u001b[0m\u001b[1;33m\u001b[0m\u001b[1;33m\u001b[0m\u001b[0m\n\u001b[1;32m-> 4419\u001b[1;33m                     \u001b[1;32mraise\u001b[0m \u001b[0me1\u001b[0m\u001b[1;33m\u001b[0m\u001b[1;33m\u001b[0m\u001b[0m\n\u001b[0m\u001b[0;32m   4420\u001b[0m             \u001b[1;32mexcept\u001b[0m \u001b[0mException\u001b[0m\u001b[1;33m:\u001b[0m\u001b[1;33m\u001b[0m\u001b[1;33m\u001b[0m\u001b[0m\n\u001b[0;32m   4421\u001b[0m                 \u001b[1;32mraise\u001b[0m \u001b[0me1\u001b[0m\u001b[1;33m\u001b[0m\u001b[1;33m\u001b[0m\u001b[0m\n",
      "\u001b[1;32mC:\\Anaconda3\\lib\\site-packages\\pandas\\core\\indexes\\base.py\u001b[0m in \u001b[0;36mget_value\u001b[1;34m(self, series, key)\u001b[0m\n\u001b[0;32m   4403\u001b[0m         \u001b[0mk\u001b[0m \u001b[1;33m=\u001b[0m \u001b[0mself\u001b[0m\u001b[1;33m.\u001b[0m\u001b[0m_convert_scalar_indexer\u001b[0m\u001b[1;33m(\u001b[0m\u001b[0mk\u001b[0m\u001b[1;33m,\u001b[0m \u001b[0mkind\u001b[0m\u001b[1;33m=\u001b[0m\u001b[1;34m\"getitem\"\u001b[0m\u001b[1;33m)\u001b[0m\u001b[1;33m\u001b[0m\u001b[1;33m\u001b[0m\u001b[0m\n\u001b[0;32m   4404\u001b[0m         \u001b[1;32mtry\u001b[0m\u001b[1;33m:\u001b[0m\u001b[1;33m\u001b[0m\u001b[1;33m\u001b[0m\u001b[0m\n\u001b[1;32m-> 4405\u001b[1;33m             \u001b[1;32mreturn\u001b[0m \u001b[0mself\u001b[0m\u001b[1;33m.\u001b[0m\u001b[0m_engine\u001b[0m\u001b[1;33m.\u001b[0m\u001b[0mget_value\u001b[0m\u001b[1;33m(\u001b[0m\u001b[0ms\u001b[0m\u001b[1;33m,\u001b[0m \u001b[0mk\u001b[0m\u001b[1;33m,\u001b[0m \u001b[0mtz\u001b[0m\u001b[1;33m=\u001b[0m\u001b[0mgetattr\u001b[0m\u001b[1;33m(\u001b[0m\u001b[0mseries\u001b[0m\u001b[1;33m.\u001b[0m\u001b[0mdtype\u001b[0m\u001b[1;33m,\u001b[0m \u001b[1;34m\"tz\"\u001b[0m\u001b[1;33m,\u001b[0m \u001b[1;32mNone\u001b[0m\u001b[1;33m)\u001b[0m\u001b[1;33m)\u001b[0m\u001b[1;33m\u001b[0m\u001b[1;33m\u001b[0m\u001b[0m\n\u001b[0m\u001b[0;32m   4406\u001b[0m         \u001b[1;32mexcept\u001b[0m \u001b[0mKeyError\u001b[0m \u001b[1;32mas\u001b[0m \u001b[0me1\u001b[0m\u001b[1;33m:\u001b[0m\u001b[1;33m\u001b[0m\u001b[1;33m\u001b[0m\u001b[0m\n\u001b[0;32m   4407\u001b[0m             \u001b[1;32mif\u001b[0m \u001b[0mlen\u001b[0m\u001b[1;33m(\u001b[0m\u001b[0mself\u001b[0m\u001b[1;33m)\u001b[0m \u001b[1;33m>\u001b[0m \u001b[1;36m0\u001b[0m \u001b[1;32mand\u001b[0m \u001b[1;33m(\u001b[0m\u001b[0mself\u001b[0m\u001b[1;33m.\u001b[0m\u001b[0mholds_integer\u001b[0m\u001b[1;33m(\u001b[0m\u001b[1;33m)\u001b[0m \u001b[1;32mor\u001b[0m \u001b[0mself\u001b[0m\u001b[1;33m.\u001b[0m\u001b[0mis_boolean\u001b[0m\u001b[1;33m(\u001b[0m\u001b[1;33m)\u001b[0m\u001b[1;33m)\u001b[0m\u001b[1;33m:\u001b[0m\u001b[1;33m\u001b[0m\u001b[1;33m\u001b[0m\u001b[0m\n",
      "\u001b[1;32mpandas\\_libs\\index.pyx\u001b[0m in \u001b[0;36mpandas._libs.index.IndexEngine.get_value\u001b[1;34m()\u001b[0m\n",
      "\u001b[1;32mpandas\\_libs\\index.pyx\u001b[0m in \u001b[0;36mpandas._libs.index.IndexEngine.get_value\u001b[1;34m()\u001b[0m\n",
      "\u001b[1;32mpandas\\_libs\\index.pyx\u001b[0m in \u001b[0;36mpandas._libs.index.IndexEngine.get_loc\u001b[1;34m()\u001b[0m\n",
      "\u001b[1;32mpandas\\_libs\\hashtable_class_helper.pxi\u001b[0m in \u001b[0;36mpandas._libs.hashtable.PyObjectHashTable.get_item\u001b[1;34m()\u001b[0m\n",
      "\u001b[1;32mpandas\\_libs\\hashtable_class_helper.pxi\u001b[0m in \u001b[0;36mpandas._libs.hashtable.PyObjectHashTable.get_item\u001b[1;34m()\u001b[0m\n",
      "\u001b[1;31mKeyError\u001b[0m: 'Fehler(comp_0_3*rep_alt*group)'"
     ]
    }
   ],
   "source": [
    "ANOVA_GG_errors_df[\"df\"][\"Fehler(\" + \"*\".join(ANOVA_GG_sig_df[\"Unnamed: 0\"][i].split(\" * \")) + \")\"]"
   ]
  },
  {
   "cell_type": "code",
   "execution_count": null,
   "metadata": {},
   "outputs": [],
   "source": []
  }
 ],
 "metadata": {
  "kernelspec": {
   "display_name": "Python 3",
   "language": "python",
   "name": "python3"
  },
  "language_info": {
   "codemirror_mode": {
    "name": "ipython",
    "version": 3
   },
   "file_extension": ".py",
   "mimetype": "text/x-python",
   "name": "python",
   "nbconvert_exporter": "python",
   "pygments_lexer": "ipython3",
   "version": "3.8.3"
  }
 },
 "nbformat": 4,
 "nbformat_minor": 4
}
