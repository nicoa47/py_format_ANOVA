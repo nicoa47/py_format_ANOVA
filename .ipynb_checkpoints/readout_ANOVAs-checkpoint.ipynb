{
 "cells": [
  {
   "cell_type": "markdown",
   "metadata": {},
   "source": [
    "## Obtain text format ANOVA results\n"
   ]
  },
  {
   "cell_type": "markdown",
   "metadata": {},
   "source": [
    "0. adjust if necessary"
   ]
  },
  {
   "cell_type": "code",
   "execution_count": 44,
   "metadata": {},
   "outputs": [],
   "source": [
    "alpha_level = 0.05"
   ]
  },
  {
   "cell_type": "markdown",
   "metadata": {},
   "source": [
    "1. export all SPSS ANOVA result tables \"Tests der Innersubjekteffekte\" as .txt files  \n",
    "(right-click on table and select \"Exportieren...\")\n",
    "2. Select the file by running the cell below:"
   ]
  },
  {
   "cell_type": "code",
   "execution_count": 2,
   "metadata": {},
   "outputs": [],
   "source": [
    "import tkinter as tk\n",
    "from tkinter import filedialog\n",
    "from pathlib import Path\n",
    "\n",
    "# hiding the root tkinter window (not needed)\n",
    "root = tk.Tk()\n",
    "root.withdraw()\n",
    "# open the file selector\n",
    "filename = filedialog.askopenfilename(initialdir = \"R:/AG-Beste-Studien/\",\n",
    "                                      title = \"Select file\",\n",
    "                                      filetypes = (('Text files','*.txt'),(\"all files\",\"*.*\")))\n",
    "filename"
   ]
  },
  {
   "cell_type": "markdown",
   "metadata": {},
   "source": [
    "3. load in the data by running the cell below"
   ]
  },
  {
   "cell_type": "code",
   "execution_count": 4,
   "metadata": {},
   "outputs": [],
   "source": [
    "import pandas as pd\n",
    "\n",
    "ANOVA_df = pd.read_csv(filename, skiprows=3, skipfooter=3, delimiter='|', encoding='utf8', decimal=',', engine='python')\n",
    "# get rid of spaces in column names\n",
    "ANOVA_df.columns = [c.rstrip() for c in ANOVA_df.columns.tolist()]\n",
    "# remove the lines in between\n",
    "ANOVA_df = ANOVA_df[ANOVA_df[\"Quelle\"] != \"----------------------\"]"
   ]
  },
  {
   "cell_type": "markdown",
   "metadata": {},
   "source": [
    "4. name the factors as appearing in the article, by running the cell below:"
   ]
  },
  {
   "cell_type": "code",
   "execution_count": 5,
   "metadata": {},
   "outputs": [
    {
     "name": "stdout",
     "output_type": "stream",
     "text": [
      "Enter a name for the factor 'pre_post':Time Interval\n",
      "Enter a name for the factor 'NGfreq_hi_lo':Nogo Frequency\n",
      "Enter a name for the factor 'NG_G':Trial Type\n"
     ]
    }
   ],
   "source": [
    "# get the factor names as list, store as dict\n",
    "factors = set([n.rstrip() for n in ANOVA_df[\"Unnamed: 0\"].tolist()])\n",
    "factors_text = {}\n",
    "for f in factors:\n",
    "    if len(f) > 0 and \" * \" not in f and not f.startswith(\"Fehler(\"):\n",
    "        factors_text[f] = input(f\"Enter a name for the factor '{f}':\")\n",
    "factors_text"
   ]
  },
  {
   "cell_type": "markdown",
   "metadata": {},
   "source": [
    "5. run the cell below and copy the output as necessary in your manuscript"
   ]
  },
  {
   "cell_type": "code",
   "execution_count": 69,
   "metadata": {},
   "outputs": [
    {
     "name": "stderr",
     "output_type": "stream",
     "text": [
      "<ipython-input-69-673c3a1ddae6>:12: SettingWithCopyWarning: \n",
      "A value is trying to be set on a copy of a slice from a DataFrame.\n",
      "Try using .loc[row_indexer,col_indexer] = value instead\n",
      "\n",
      "See the caveats in the documentation: https://pandas.pydata.org/pandas-docs/stable/user_guide/indexing.html#returning-a-view-versus-a-copy\n",
      "  ANOVA_GG_df[\"Sig.\"] = [e.rstrip() for e in ANOVA_GG_df[\"Sig.\"].tolist()]\n",
      "<ipython-input-69-673c3a1ddae6>:18: SettingWithCopyWarning: \n",
      "A value is trying to be set on a copy of a slice from a DataFrame.\n",
      "Try using .loc[row_indexer,col_indexer] = value instead\n",
      "\n",
      "See the caveats in the documentation: https://pandas.pydata.org/pandas-docs/stable/user_guide/indexing.html#returning-a-view-versus-a-copy\n",
      "  ANOVA_GG_effects_df[\"Sig.\"] = [float(v) for v in ANOVA_GG_effects_df[\"Sig.\"].tolist()]\n",
      "<ipython-input-69-673c3a1ddae6>:22: SettingWithCopyWarning: \n",
      "A value is trying to be set on a copy of a slice from a DataFrame\n",
      "\n",
      "See the caveats in the documentation: https://pandas.pydata.org/pandas-docs/stable/user_guide/indexing.html#returning-a-view-versus-a-copy\n",
      "  ANOVA_GG_nonsig_df.sort_values(\"Sig.\", inplace=True)\n"
     ]
    },
    {
     "data": {
      "text/html": [
       "<b>SIGNIFICANT RESULTS</b>"
      ],
      "text/plain": [
       "<IPython.core.display.HTML object>"
      ]
     },
     "metadata": {},
     "output_type": "display_data"
    },
    {
     "data": {
      "text/html": [
       "\n",
       "    <b>Time Interval</b> <br>\n",
       "    F(1, 30) = 5.227; p = 0.029; &#951;<sub>p</sub><sup>2</sup> = .148                   <br>\n",
       "    "
      ],
      "text/plain": [
       "<IPython.core.display.HTML object>"
      ]
     },
     "metadata": {},
     "output_type": "display_data"
    },
    {
     "data": {
      "text/html": [
       "\n",
       "    <b>Trial Type</b> <br>\n",
       "    F(1, 30) = 40.863; p &#60; .001; &#951;<sub>p</sub><sup>2</sup> = .577                   <br>\n",
       "    "
      ],
      "text/plain": [
       "<IPython.core.display.HTML object>"
      ]
     },
     "metadata": {},
     "output_type": "display_data"
    },
    {
     "data": {
      "text/html": [
       "\n",
       "    <b>Time Interval &#215 Nogo Frequency</b> <br>\n",
       "    F(1, 30) = 25.907; p &#60; .001; &#951;<sub>p</sub><sup>2</sup> = .463                   <br>\n",
       "    "
      ],
      "text/plain": [
       "<IPython.core.display.HTML object>"
      ]
     },
     "metadata": {},
     "output_type": "display_data"
    },
    {
     "data": {
      "text/html": [
       "\n",
       "    <b>Trial Type &#215 Nogo Frequency</b> <br>\n",
       "    F(1, 30) = 33.28; p &#60; .001; &#951;<sub>p</sub><sup>2</sup> = .526                   <br>\n",
       "    "
      ],
      "text/plain": [
       "<IPython.core.display.HTML object>"
      ]
     },
     "metadata": {},
     "output_type": "display_data"
    },
    {
     "data": {
      "text/html": [
       "<b>NON-SIGNIFICANT RESULTS</b>"
      ],
      "text/plain": [
       "<IPython.core.display.HTML object>"
      ]
     },
     "metadata": {},
     "output_type": "display_data"
    },
    {
     "data": {
      "text/html": [
       "\n",
       "    <b>Time Interval &#215 Trial Type &#215 Nogo Frequency</b> <br>\n",
       "    All other F(1, 30) &#8804; 0.57; p &#8805; 0.456 <br>\n",
       "    "
      ],
      "text/plain": [
       "<IPython.core.display.HTML object>"
      ]
     },
     "metadata": {},
     "output_type": "display_data"
    }
   ],
   "source": [
    "# display factor names for all rows\n",
    "sources = [s.rstrip() for s in ANOVA_df[\"Unnamed: 0\"].tolist()]\n",
    "for i, source in enumerate(sources[1:]):\n",
    "    sources[i+1] = sources[i] if len(sources[i+1]) == 0 else sources[i+1]\n",
    "ANOVA_df[\"Unnamed: 0\"] = sources\n",
    "\n",
    "# limit table to Greenhouse-Geisser correction\n",
    "ANOVA_df[\"Quelle\"] = [e.rstrip() for e in ANOVA_df[\"Quelle\"].tolist()]\n",
    "ANOVA_GG_df = ANOVA_df[ANOVA_df[\"Quelle\"] == \"Greenhouse-Geisser\"]\n",
    "\n",
    "# split the error table\n",
    "ANOVA_GG_df[\"Sig.\"] = [e.rstrip() for e in ANOVA_GG_df[\"Sig.\"].tolist()]\n",
    "ANOVA_GG_effects_df = ANOVA_GG_df[ANOVA_GG_df[\"Sig.\"] != \"\"]\n",
    "ANOVA_GG_errors_df = ANOVA_GG_df[ANOVA_GG_df[\"Sig.\"] == \"\"]\n",
    "ANOVA_GG_errors_df.set_index(\"Unnamed: 0\", inplace=True)\n",
    "\n",
    "# sort non-significant table to p values\n",
    "ANOVA_GG_effects_df[\"Sig.\"] = [float(v) for v in ANOVA_GG_effects_df[\"Sig.\"].tolist()]\n",
    "ANOVA_GG_sig_df = ANOVA_GG_effects_df[ANOVA_GG_effects_df[\"Sig.\"] <= 0.05]\n",
    "ANOVA_GG_sig_df.index = list(range(len(ANOVA_GG_sig_df)))\n",
    "ANOVA_GG_nonsig_df = ANOVA_GG_effects_df[ANOVA_GG_effects_df[\"Sig.\"] > 0.05]\n",
    "ANOVA_GG_nonsig_df.sort_values(\"Sig.\", inplace=True)\n",
    "ANOVA_GG_nonsig_df.index = list(range(len(ANOVA_GG_nonsig_df)))\n",
    "\n",
    "# setup the html writer function\n",
    "from IPython.display import HTML\n",
    "def write_html_line(effect_name, df1, df2, F_val, p_val, eta_val):\n",
    "    # prepare standard strings\n",
    "    all_other = \"\"\n",
    "    eta_part = \"; &#951;<sub>p</sub><sup>2</sup> = \" + eta_val\n",
    "    p_sign = \"=\"\n",
    "    F_sign = \"=\"\n",
    "    # special cases\n",
    "    if p_val < 0.001:\n",
    "        p_sign = \"&#60;\"\n",
    "        p_val = \".001\"\n",
    "    elif p_val > alpha_level:\n",
    "        # non significant:\n",
    "        p_sign = \"&#8805;\"\n",
    "        F_sign = \"&#8804;\"\n",
    "        all_other = \"All other \"\n",
    "        eta_part = \"\"\n",
    "    # formatting\n",
    "    df1 = '%g'%(df1)\n",
    "    df2 = '%g'%(df2)\n",
    "    html_text = \"\"\"\n",
    "    <b>{effect_name}</b> <br>\n",
    "    {all_other}F({df1}, {df2}) {F_sign} {F_val}; p {p_sign} {p_val}{eta_part} <br>\n",
    "    \"\"\"\n",
    "    # include the variables\n",
    "    return html_text.format(effect_name=effect_name, all_other=all_other, df1=df1, df2=df2, F_sign=F_sign, F_val=F_val, p_sign=p_sign, p_val=p_val, eta_part=eta_part)\n",
    "\n",
    "# gather the important infos\n",
    "\n",
    "display(HTML('<b>SIGNIFICANT RESULTS</b>'))\n",
    "\n",
    "for i in range(len(ANOVA_GG_sig_df)):\n",
    "    factor_name = \" &#215 \".join([factors_text[p] for p in ANOVA_GG_sig_df[\"Unnamed: 0\"][i].split(\" * \")])\n",
    "    html_sig = write_html_line(factor_name, \n",
    "        float(ANOVA_GG_sig_df[\"df\"][i]), \n",
    "        float(ANOVA_GG_errors_df[\"df\"][\"Fehler(\" + \"*\".join(ANOVA_GG_sig_df[\"Unnamed: 0\"][i].split(\" * \")) + \")\"]),\n",
    "        float(ANOVA_GG_sig_df[\"F\"][i]), \n",
    "        ANOVA_GG_sig_df[\"Sig.\"][i], \n",
    "        ANOVA_GG_sig_df[\"Partielles Eta-Quadrat\"][i]\n",
    "       )\n",
    "    display(HTML(html_sig))\n",
    "\n",
    "display(HTML('<b>NON-SIGNIFICANT RESULTS</b>'))\n",
    "\n",
    "factor_name = \" &#215 \".join([factors_text[p] for p in ANOVA_GG_nonsig_df[\"Unnamed: 0\"][0].split(\" * \")])\n",
    "html_nonsig = write_html_line(factor_name, \n",
    "    float(ANOVA_GG_nonsig_df[\"df\"][0]), \n",
    "    float(ANOVA_GG_errors_df[\"df\"][\"Fehler(\" + \"*\".join(ANOVA_GG_nonsig_df[\"Unnamed: 0\"][0].split(\" * \")) + \")\"]),\n",
    "    float(ANOVA_GG_nonsig_df[\"F\"][0]), \n",
    "    ANOVA_GG_nonsig_df[\"Sig.\"][0], \n",
    "    ANOVA_GG_nonsig_df[\"Partielles Eta-Quadrat\"][0]\n",
    "   )\n",
    "display(HTML(html_nonsig))"
   ]
  }
 ],
 "metadata": {
  "kernelspec": {
   "display_name": "Python 3",
   "language": "python",
   "name": "python3"
  },
  "language_info": {
   "codemirror_mode": {
    "name": "ipython",
    "version": 3
   },
   "file_extension": ".py",
   "mimetype": "text/x-python",
   "name": "python",
   "nbconvert_exporter": "python",
   "pygments_lexer": "ipython3",
   "version": "3.8.3"
  }
 },
 "nbformat": 4,
 "nbformat_minor": 4
}
