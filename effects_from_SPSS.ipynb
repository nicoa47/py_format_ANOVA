{
 "cells": [
  {
   "cell_type": "markdown",
   "metadata": {},
   "source": [
    "## Obtain text format ANOVA results\n",
    "TODOs (not implemented yet):\n",
    "- between subject factors\n",
    "- readout group factor from between subject tables\n",
    "- readout the main effect directions\n",
    "- clean up: move the functions to offline script\n",
    "- implement multiple groups"
   ]
  },
  {
   "cell_type": "markdown",
   "metadata": {},
   "source": [
    "0. adjust if necessary"
   ]
  },
  {
   "cell_type": "code",
   "execution_count": 1,
   "metadata": {},
   "outputs": [],
   "source": [
    "alpha_level = 0.05"
   ]
  },
  {
   "cell_type": "markdown",
   "metadata": {},
   "source": [
    "1. export all SPSS ANOVA result tables \"Tests der Innersubjekteffekte\" as .txt files  \n",
    "(right-click on table and select \"Exportieren...\")\n",
    "![title](instruction.jpg)  \n",
    "\n",
    "2. Select the file by running the cell below:"
   ]
  },
  {
   "cell_type": "code",
   "execution_count": 448,
   "metadata": {},
   "outputs": [],
   "source": [
    "import numpy as np"
   ]
  },
  {
   "cell_type": "code",
   "execution_count": 355,
   "metadata": {},
   "outputs": [
    {
     "data": {
      "text/plain": [
       "'R:/AG-Beste-Studien/TEC4Tic - Forschergruppe/EEG-Daten/SR Nico/behavioral/RT_ANOVA_SPSS_all.htm'"
      ]
     },
     "execution_count": 355,
     "metadata": {},
     "output_type": "execute_result"
    }
   ],
   "source": [
    "import tkinter as tk\n",
    "from tkinter import filedialog\n",
    "from pathlib import Path\n",
    "\n",
    "# hiding the root tkinter window (not needed)\n",
    "root = tk.Tk()\n",
    "root.withdraw()\n",
    "# open the file selector\n",
    "filename = filedialog.askopenfilename(initialdir = \"R:/AG-Beste-Studien/\",\n",
    "                                      title = \"Select file\",\n",
    "                                      filetypes = (('Text files','*.htm'),(\"all files\",\"*.*\")))\n",
    "filename"
   ]
  },
  {
   "cell_type": "markdown",
   "metadata": {},
   "source": [
    "3. collect all the tables from exported HTML"
   ]
  },
  {
   "cell_type": "code",
   "execution_count": 354,
   "metadata": {},
   "outputs": [],
   "source": [
    "# other approach: read html tables to pandas\n",
    "\n",
    "from bs4 import BeautifulSoup\n",
    "f = open(filename, \"r\", encoding=\"utf8\")\n",
    "html = f.read()\n",
    "soup = BeautifulSoup(html, \"lxml\")\n",
    "captions = soup.find_all(\"caption\")\n",
    "captions = [str(c).split(\">\")[1].split(\"<\")[0] for c in captions]\n",
    "print(captions)"
   ]
  },
  {
   "cell_type": "code",
   "execution_count": 433,
   "metadata": {},
   "outputs": [],
   "source": [
    "tables = {}\n",
    "for c in captions:\n",
    "    tables[c] = pd.read_html(filename, match=c.replace(\"*\", \"\\*\"))[0]"
   ]
  },
  {
   "cell_type": "markdown",
   "metadata": {},
   "source": [
    "4. collect variables from tables"
   ]
  },
  {
   "cell_type": "code",
   "execution_count": 453,
   "metadata": {},
   "outputs": [
    {
     "data": {
      "text/html": [
       "<div>\n",
       "<style scoped>\n",
       "    .dataframe tbody tr th:only-of-type {\n",
       "        vertical-align: middle;\n",
       "    }\n",
       "\n",
       "    .dataframe tbody tr th {\n",
       "        vertical-align: top;\n",
       "    }\n",
       "\n",
       "    .dataframe thead th {\n",
       "        text-align: right;\n",
       "    }\n",
       "</style>\n",
       "<table border=\"1\" class=\"dataframe\">\n",
       "  <thead>\n",
       "    <tr style=\"text-align: right;\">\n",
       "      <th></th>\n",
       "      <th>Unnamed: 0</th>\n",
       "      <th>Unnamed: 1</th>\n",
       "      <th>N</th>\n",
       "    </tr>\n",
       "  </thead>\n",
       "  <tbody>\n",
       "    <tr>\n",
       "      <th>0</th>\n",
       "      <td>group</td>\n",
       "      <td>0</td>\n",
       "      <td>74</td>\n",
       "    </tr>\n",
       "    <tr>\n",
       "      <th>1</th>\n",
       "      <td>group</td>\n",
       "      <td>1</td>\n",
       "      <td>74</td>\n",
       "    </tr>\n",
       "  </tbody>\n",
       "</table>\n",
       "</div>"
      ],
      "text/plain": [
       "  Unnamed: 0  Unnamed: 1   N\n",
       "0      group           0  74\n",
       "1      group           1  74"
      ]
     },
     "execution_count": 453,
     "metadata": {},
     "output_type": "execute_result"
    }
   ],
   "source": [
    "df = tables[\"Zwischensubjektfaktoren\"]\n",
    "df"
   ]
  },
  {
   "cell_type": "code",
   "execution_count": 451,
   "metadata": {},
   "outputs": [
    {
     "data": {
      "text/plain": [
       "['comp_0_3', 'rep_alt']"
      ]
     },
     "execution_count": 451,
     "metadata": {},
     "output_type": "execute_result"
    }
   ],
   "source": [
    "within_f = []\n",
    "if \"Innersubjektfaktoren\" in captions:\n",
    "    df = tables[\"Innersubjektfaktoren\"]\n",
    "    within_f = [ind[1] for ind in df.columns[:-1]]\n",
    "within_f"
   ]
  },
  {
   "cell_type": "code",
   "execution_count": 460,
   "metadata": {},
   "outputs": [
    {
     "data": {
      "text/plain": [
       "['group']"
      ]
     },
     "execution_count": 460,
     "metadata": {},
     "output_type": "execute_result"
    }
   ],
   "source": [
    "between_f = []\n",
    "if \"Zwischensubjektfaktoren\" in captions:\n",
    "    df = tables[\"Zwischensubjektfaktoren\"]\n",
    "    # TODO implement multiple groups\n",
    "    between_f.append(df.iloc[0,0])\n",
    "    \n",
    "between_f"
   ]
  },
  {
   "cell_type": "markdown",
   "metadata": {},
   "source": [
    "3. load in the data by running the cell below"
   ]
  },
  {
   "cell_type": "code",
   "execution_count": 3,
   "metadata": {},
   "outputs": [],
   "source": [
    "import pandas as pd\n",
    "\n",
    "ANOVA_df = pd.read_csv(filename, skiprows=3, skipfooter=3, delimiter='|', encoding='utf8', decimal=',', engine='python')\n",
    "# get rid of spaces in column names\n",
    "ANOVA_df.columns = [c.rstrip() for c in ANOVA_df.columns.tolist()]\n",
    "# remove the lines in between\n",
    "ANOVA_df = ANOVA_df[ANOVA_df[\"Quelle\"] != \"----------------------\"]"
   ]
  },
  {
   "cell_type": "markdown",
   "metadata": {},
   "source": [
    "4. name the factors as appearing in the article, by running the cell below:"
   ]
  },
  {
   "cell_type": "code",
   "execution_count": 12,
   "metadata": {},
   "outputs": [
    {
     "name": "stdout",
     "output_type": "stream",
     "text": [
      "Enter a name for the factor 'comp_0_3':feature overlap\n",
      "Enter a name for the factor 'rep_alt':response\n",
      "Enter a name for the factor 'group':group\n"
     ]
    },
    {
     "data": {
      "text/plain": [
       "{'comp_0_3': 'feature overlap', 'rep_alt': 'response', 'group': 'group'}"
      ]
     },
     "execution_count": 12,
     "metadata": {},
     "output_type": "execute_result"
    }
   ],
   "source": [
    "cols = set([n.rstrip() for n in ANOVA_df[\"Unnamed: 0\"].tolist()])\n",
    "# count the most multiplication signs\n",
    "max_signs = 0\n",
    "read_str = \"\"\n",
    "for c in cols:\n",
    "    n_signs = c.count(\"*\")\n",
    "    if n_signs > max_signs:\n",
    "        max_signs = n_signs\n",
    "        read_str = c\n",
    "\n",
    "factors_text = {}\n",
    "for fac in read_str.split(\" * \"):\n",
    "    factors_text[fac] = input(f\"Enter a name for the factor '{fac}':\")\n",
    "factors_text"
   ]
  },
  {
   "cell_type": "code",
   "execution_count": 13,
   "metadata": {},
   "outputs": [
    {
     "data": {
      "text/plain": [
       "'\\n# get the factor names as list, store as dict\\nfactors = set([n.rstrip() for n in ANOVA_df[\"Unnamed: 0\"].tolist()])\\nfactors_text = {}\\nfor f in factors:\\n    if len(f) > 0 and \" * \" not in f and not f.startswith(\"Fehler(\"):\\n        factors_text[f] = input(f\"Enter a name for the factor \\'{f}\\':\")\\nfactors_text\\n#'"
      ]
     },
     "execution_count": 13,
     "metadata": {},
     "output_type": "execute_result"
    }
   ],
   "source": [
    "\"\"\"\n",
    "# get the factor names as list, store as dict\n",
    "factors = set([n.rstrip() for n in ANOVA_df[\"Unnamed: 0\"].tolist()])\n",
    "factors_text = {}\n",
    "for f in factors:\n",
    "    if len(f) > 0 and \" * \" not in f and not f.startswith(\"Fehler(\"):\n",
    "        factors_text[f] = input(f\"Enter a name for the factor '{f}':\")\n",
    "factors_text\n",
    "#\"\"\""
   ]
  },
  {
   "cell_type": "markdown",
   "metadata": {},
   "source": [
    "5. run the cell below and copy the output as necessary in your manuscript"
   ]
  },
  {
   "cell_type": "code",
   "execution_count": 20,
   "metadata": {},
   "outputs": [],
   "source": [
    "def setup_GG_df(ANOVA_df):\n",
    "    # display factor names for all rows\n",
    "    sources = [s.rstrip() for s in ANOVA_df[\"Unnamed: 0\"].tolist()]\n",
    "    for i, source in enumerate(sources[1:]):\n",
    "        sources[i+1] = sources[i] if len(sources[i+1]) == 0 else sources[i+1]\n",
    "    ANOVA_df[\"Unnamed: 0\"] = sources\n",
    "\n",
    "    # limit table to Greenhouse-Geisser correction\n",
    "    ANOVA_df[\"Quelle\"] = [e.rstrip() for e in ANOVA_df[\"Quelle\"].tolist()]\n",
    "    ANOVA_GG_df = ANOVA_df[ANOVA_df[\"Quelle\"] == \"Greenhouse-Geisser\"]\n",
    "\n",
    "    # split the error table\n",
    "    ANOVA_GG_df[\"Sig.\"] = [e.rstrip() for e in ANOVA_GG_df[\"Sig.\"].tolist()]\n",
    "    ANOVA_GG_effects_df = ANOVA_GG_df[ANOVA_GG_df[\"Sig.\"] != \"\"]\n",
    "    ANOVA_GG_errors_df = ANOVA_GG_df[ANOVA_GG_df[\"Sig.\"] == \"\"]\n",
    "    ANOVA_GG_errors_df.set_index(\"Unnamed: 0\", inplace=True)\n",
    "\n",
    "    # sort non-significant table to p values\n",
    "    ANOVA_GG_effects_df[\"Sig.\"] = [float(v) for v in ANOVA_GG_effects_df[\"Sig.\"].tolist()]\n",
    "    ANOVA_GG_sig_df = ANOVA_GG_effects_df[ANOVA_GG_effects_df[\"Sig.\"] <= 0.05]\n",
    "    ANOVA_GG_sig_df.index = list(range(len(ANOVA_GG_sig_df)))\n",
    "    ANOVA_GG_nonsig_df = ANOVA_GG_effects_df[ANOVA_GG_effects_df[\"Sig.\"] > 0.05]\n",
    "    ANOVA_GG_nonsig_df.sort_values(\"Sig.\", inplace=True)\n",
    "    ANOVA_GG_nonsig_df.index = list(range(len(ANOVA_GG_nonsig_df)))\n",
    "\n",
    "    return [ANOVA_GG_sig_df, ANOVA_GG_nonsig_df]"
   ]
  },
  {
   "cell_type": "code",
   "execution_count": 21,
   "metadata": {},
   "outputs": [],
   "source": [
    "# setup the html writer function\n",
    "from IPython.display import HTML\n",
    "def write_html_line(effect_name, df1, df2, F_val, p_val, eta_val):\n",
    "    # prepare standard strings\n",
    "    all_other = \"\"\n",
    "    eta_part = \"; &#951;<sub>p</sub><sup>2</sup> = \" + eta_val\n",
    "    p_sign = \"=\"\n",
    "    F_sign = \"=\"\n",
    "    # special cases\n",
    "    if p_val < 0.001:\n",
    "        p_sign = \"&#60;\"\n",
    "        p_val = \".001\"\n",
    "    elif p_val > alpha_level:\n",
    "        # non significant:\n",
    "        p_sign = \"&#8805;\"\n",
    "        F_sign = \"&#8804;\"\n",
    "        all_other = \"All other \"\n",
    "        eta_part = \"\"\n",
    "    # formatting\n",
    "    df1 = '%g'%(df1)\n",
    "    df2 = '%g'%(df2)\n",
    "    html_text = \"\"\"\n",
    "    <b>{effect_name}</b> <br>\n",
    "    {all_other}F({df1}, {df2}) {F_sign} {F_val}; p {p_sign} {p_val}{eta_part} <br>\n",
    "    \"\"\"\n",
    "    # include the variables\n",
    "    return html_text.format(effect_name=effect_name, \n",
    "                            all_other=all_other, \n",
    "                            df1=df1, \n",
    "                            df2=df2, \n",
    "                            F_sign=F_sign, \n",
    "                            F_val=F_val, \n",
    "                            p_sign=p_sign, \n",
    "                            p_val=p_val, \n",
    "                            eta_part=eta_part)"
   ]
  },
  {
   "cell_type": "code",
   "execution_count": 22,
   "metadata": {},
   "outputs": [],
   "source": [
    "# gather the important infos\n",
    "\n",
    "def print_sign_results(ANOVA_GG_sig_df):\n",
    "    display(HTML('<b>SIGNIFICANT RESULTS</b>'))\n",
    "\n",
    "    for i in range(len(ANOVA_GG_sig_df)):\n",
    "        factor_name = \" &#215 \".join([factors_text[p] for p in ANOVA_GG_sig_df[\"Unnamed: 0\"][i].split(\" * \")])\n",
    "        html_sig = write_html_line(factor_name, \n",
    "            float(ANOVA_GG_sig_df[\"df\"][i]), \n",
    "            float(ANOVA_GG_errors_df[\"df\"][\"Fehler(\" + \"*\".join(ANOVA_GG_sig_df[\"Unnamed: 0\"][i].split(\" * \")) + \")\"]),\n",
    "            float(ANOVA_GG_sig_df[\"F\"][i]), \n",
    "            ANOVA_GG_sig_df[\"Sig.\"][i], \n",
    "            ANOVA_GG_sig_df[\"Partielles Eta-Quadrat\"][i]\n",
    "           )\n",
    "        display(HTML(html_sig))\n",
    "\n",
    "def print_nonsign_results(ANOVA_GG_sig_df):\n",
    "    display(HTML('<b>NON-SIGNIFICANT RESULTS</b>'))\n",
    "\n",
    "    factor_name = \" &#215 \".join([factors_text[p] for p in ANOVA_GG_nonsig_df[\"Unnamed: 0\"][0].split(\" * \")])\n",
    "    html_nonsig = write_html_line(factor_name, \n",
    "        float(ANOVA_GG_nonsig_df[\"df\"][0]), \n",
    "        float(ANOVA_GG_errors_df[\"df\"][\"Fehler(\" + \"*\".join(ANOVA_GG_nonsig_df[\"Unnamed: 0\"][0].split(\" * \")) + \")\"]),\n",
    "        float(ANOVA_GG_nonsig_df[\"F\"][0]), \n",
    "        ANOVA_GG_nonsig_df[\"Sig.\"][0], \n",
    "        ANOVA_GG_nonsig_df[\"Partielles Eta-Quadrat\"][0]\n",
    "       )\n",
    "    display(HTML(html_nonsig))"
   ]
  },
  {
   "cell_type": "code",
   "execution_count": 19,
   "metadata": {},
   "outputs": [
    {
     "ename": "KeyError",
     "evalue": "'Fehler(comp_0_3*rep_alt*group)'",
     "output_type": "error",
     "traceback": [
      "\u001b[1;31m---------------------------------------------------------------------------\u001b[0m",
      "\u001b[1;31mTypeError\u001b[0m                                 Traceback (most recent call last)",
      "\u001b[1;32mC:\\Anaconda3\\lib\\site-packages\\pandas\\core\\indexes\\base.py\u001b[0m in \u001b[0;36mget_value\u001b[1;34m(self, series, key)\u001b[0m\n\u001b[0;32m   4410\u001b[0m             \u001b[1;32mtry\u001b[0m\u001b[1;33m:\u001b[0m\u001b[1;33m\u001b[0m\u001b[1;33m\u001b[0m\u001b[0m\n\u001b[1;32m-> 4411\u001b[1;33m                 \u001b[1;32mreturn\u001b[0m \u001b[0mlibindex\u001b[0m\u001b[1;33m.\u001b[0m\u001b[0mget_value_at\u001b[0m\u001b[1;33m(\u001b[0m\u001b[0ms\u001b[0m\u001b[1;33m,\u001b[0m \u001b[0mkey\u001b[0m\u001b[1;33m)\u001b[0m\u001b[1;33m\u001b[0m\u001b[1;33m\u001b[0m\u001b[0m\n\u001b[0m\u001b[0;32m   4412\u001b[0m             \u001b[1;32mexcept\u001b[0m \u001b[0mIndexError\u001b[0m\u001b[1;33m:\u001b[0m\u001b[1;33m\u001b[0m\u001b[1;33m\u001b[0m\u001b[0m\n",
      "\u001b[1;32mpandas\\_libs\\index.pyx\u001b[0m in \u001b[0;36mpandas._libs.index.get_value_at\u001b[1;34m()\u001b[0m\n",
      "\u001b[1;32mpandas\\_libs\\index.pyx\u001b[0m in \u001b[0;36mpandas._libs.index.get_value_at\u001b[1;34m()\u001b[0m\n",
      "\u001b[1;32mpandas\\_libs\\util.pxd\u001b[0m in \u001b[0;36mpandas._libs.util.get_value_at\u001b[1;34m()\u001b[0m\n",
      "\u001b[1;32mpandas\\_libs\\util.pxd\u001b[0m in \u001b[0;36mpandas._libs.util.validate_indexer\u001b[1;34m()\u001b[0m\n",
      "\u001b[1;31mTypeError\u001b[0m: 'str' object cannot be interpreted as an integer",
      "\nDuring handling of the above exception, another exception occurred:\n",
      "\u001b[1;31mKeyError\u001b[0m                                  Traceback (most recent call last)",
      "\u001b[1;32m<ipython-input-19-7c325d7fb433>\u001b[0m in \u001b[0;36m<module>\u001b[1;34m\u001b[0m\n\u001b[1;32m----> 1\u001b[1;33m \u001b[0mANOVA_GG_errors_df\u001b[0m\u001b[1;33m[\u001b[0m\u001b[1;34m\"df\"\u001b[0m\u001b[1;33m]\u001b[0m\u001b[1;33m[\u001b[0m\u001b[1;34m\"Fehler(\"\u001b[0m \u001b[1;33m+\u001b[0m \u001b[1;34m\"*\"\u001b[0m\u001b[1;33m.\u001b[0m\u001b[0mjoin\u001b[0m\u001b[1;33m(\u001b[0m\u001b[0mANOVA_GG_sig_df\u001b[0m\u001b[1;33m[\u001b[0m\u001b[1;34m\"Unnamed: 0\"\u001b[0m\u001b[1;33m]\u001b[0m\u001b[1;33m[\u001b[0m\u001b[0mi\u001b[0m\u001b[1;33m]\u001b[0m\u001b[1;33m.\u001b[0m\u001b[0msplit\u001b[0m\u001b[1;33m(\u001b[0m\u001b[1;34m\" * \"\u001b[0m\u001b[1;33m)\u001b[0m\u001b[1;33m)\u001b[0m \u001b[1;33m+\u001b[0m \u001b[1;34m\")\"\u001b[0m\u001b[1;33m]\u001b[0m\u001b[1;33m\u001b[0m\u001b[1;33m\u001b[0m\u001b[0m\n\u001b[0m",
      "\u001b[1;32mC:\\Anaconda3\\lib\\site-packages\\pandas\\core\\series.py\u001b[0m in \u001b[0;36m__getitem__\u001b[1;34m(self, key)\u001b[0m\n\u001b[0;32m    869\u001b[0m         \u001b[0mkey\u001b[0m \u001b[1;33m=\u001b[0m \u001b[0mcom\u001b[0m\u001b[1;33m.\u001b[0m\u001b[0mapply_if_callable\u001b[0m\u001b[1;33m(\u001b[0m\u001b[0mkey\u001b[0m\u001b[1;33m,\u001b[0m \u001b[0mself\u001b[0m\u001b[1;33m)\u001b[0m\u001b[1;33m\u001b[0m\u001b[1;33m\u001b[0m\u001b[0m\n\u001b[0;32m    870\u001b[0m         \u001b[1;32mtry\u001b[0m\u001b[1;33m:\u001b[0m\u001b[1;33m\u001b[0m\u001b[1;33m\u001b[0m\u001b[0m\n\u001b[1;32m--> 871\u001b[1;33m             \u001b[0mresult\u001b[0m \u001b[1;33m=\u001b[0m \u001b[0mself\u001b[0m\u001b[1;33m.\u001b[0m\u001b[0mindex\u001b[0m\u001b[1;33m.\u001b[0m\u001b[0mget_value\u001b[0m\u001b[1;33m(\u001b[0m\u001b[0mself\u001b[0m\u001b[1;33m,\u001b[0m \u001b[0mkey\u001b[0m\u001b[1;33m)\u001b[0m\u001b[1;33m\u001b[0m\u001b[1;33m\u001b[0m\u001b[0m\n\u001b[0m\u001b[0;32m    872\u001b[0m \u001b[1;33m\u001b[0m\u001b[0m\n\u001b[0;32m    873\u001b[0m             \u001b[1;32mif\u001b[0m \u001b[1;32mnot\u001b[0m \u001b[0mis_scalar\u001b[0m\u001b[1;33m(\u001b[0m\u001b[0mresult\u001b[0m\u001b[1;33m)\u001b[0m\u001b[1;33m:\u001b[0m\u001b[1;33m\u001b[0m\u001b[1;33m\u001b[0m\u001b[0m\n",
      "\u001b[1;32mC:\\Anaconda3\\lib\\site-packages\\pandas\\core\\indexes\\base.py\u001b[0m in \u001b[0;36mget_value\u001b[1;34m(self, series, key)\u001b[0m\n\u001b[0;32m   4417\u001b[0m                     \u001b[1;32mraise\u001b[0m \u001b[0mInvalidIndexError\u001b[0m\u001b[1;33m(\u001b[0m\u001b[0mkey\u001b[0m\u001b[1;33m)\u001b[0m\u001b[1;33m\u001b[0m\u001b[1;33m\u001b[0m\u001b[0m\n\u001b[0;32m   4418\u001b[0m                 \u001b[1;32melse\u001b[0m\u001b[1;33m:\u001b[0m\u001b[1;33m\u001b[0m\u001b[1;33m\u001b[0m\u001b[0m\n\u001b[1;32m-> 4419\u001b[1;33m                     \u001b[1;32mraise\u001b[0m \u001b[0me1\u001b[0m\u001b[1;33m\u001b[0m\u001b[1;33m\u001b[0m\u001b[0m\n\u001b[0m\u001b[0;32m   4420\u001b[0m             \u001b[1;32mexcept\u001b[0m \u001b[0mException\u001b[0m\u001b[1;33m:\u001b[0m\u001b[1;33m\u001b[0m\u001b[1;33m\u001b[0m\u001b[0m\n\u001b[0;32m   4421\u001b[0m                 \u001b[1;32mraise\u001b[0m \u001b[0me1\u001b[0m\u001b[1;33m\u001b[0m\u001b[1;33m\u001b[0m\u001b[0m\n",
      "\u001b[1;32mC:\\Anaconda3\\lib\\site-packages\\pandas\\core\\indexes\\base.py\u001b[0m in \u001b[0;36mget_value\u001b[1;34m(self, series, key)\u001b[0m\n\u001b[0;32m   4403\u001b[0m         \u001b[0mk\u001b[0m \u001b[1;33m=\u001b[0m \u001b[0mself\u001b[0m\u001b[1;33m.\u001b[0m\u001b[0m_convert_scalar_indexer\u001b[0m\u001b[1;33m(\u001b[0m\u001b[0mk\u001b[0m\u001b[1;33m,\u001b[0m \u001b[0mkind\u001b[0m\u001b[1;33m=\u001b[0m\u001b[1;34m\"getitem\"\u001b[0m\u001b[1;33m)\u001b[0m\u001b[1;33m\u001b[0m\u001b[1;33m\u001b[0m\u001b[0m\n\u001b[0;32m   4404\u001b[0m         \u001b[1;32mtry\u001b[0m\u001b[1;33m:\u001b[0m\u001b[1;33m\u001b[0m\u001b[1;33m\u001b[0m\u001b[0m\n\u001b[1;32m-> 4405\u001b[1;33m             \u001b[1;32mreturn\u001b[0m \u001b[0mself\u001b[0m\u001b[1;33m.\u001b[0m\u001b[0m_engine\u001b[0m\u001b[1;33m.\u001b[0m\u001b[0mget_value\u001b[0m\u001b[1;33m(\u001b[0m\u001b[0ms\u001b[0m\u001b[1;33m,\u001b[0m \u001b[0mk\u001b[0m\u001b[1;33m,\u001b[0m \u001b[0mtz\u001b[0m\u001b[1;33m=\u001b[0m\u001b[0mgetattr\u001b[0m\u001b[1;33m(\u001b[0m\u001b[0mseries\u001b[0m\u001b[1;33m.\u001b[0m\u001b[0mdtype\u001b[0m\u001b[1;33m,\u001b[0m \u001b[1;34m\"tz\"\u001b[0m\u001b[1;33m,\u001b[0m \u001b[1;32mNone\u001b[0m\u001b[1;33m)\u001b[0m\u001b[1;33m)\u001b[0m\u001b[1;33m\u001b[0m\u001b[1;33m\u001b[0m\u001b[0m\n\u001b[0m\u001b[0;32m   4406\u001b[0m         \u001b[1;32mexcept\u001b[0m \u001b[0mKeyError\u001b[0m \u001b[1;32mas\u001b[0m \u001b[0me1\u001b[0m\u001b[1;33m:\u001b[0m\u001b[1;33m\u001b[0m\u001b[1;33m\u001b[0m\u001b[0m\n\u001b[0;32m   4407\u001b[0m             \u001b[1;32mif\u001b[0m \u001b[0mlen\u001b[0m\u001b[1;33m(\u001b[0m\u001b[0mself\u001b[0m\u001b[1;33m)\u001b[0m \u001b[1;33m>\u001b[0m \u001b[1;36m0\u001b[0m \u001b[1;32mand\u001b[0m \u001b[1;33m(\u001b[0m\u001b[0mself\u001b[0m\u001b[1;33m.\u001b[0m\u001b[0mholds_integer\u001b[0m\u001b[1;33m(\u001b[0m\u001b[1;33m)\u001b[0m \u001b[1;32mor\u001b[0m \u001b[0mself\u001b[0m\u001b[1;33m.\u001b[0m\u001b[0mis_boolean\u001b[0m\u001b[1;33m(\u001b[0m\u001b[1;33m)\u001b[0m\u001b[1;33m)\u001b[0m\u001b[1;33m:\u001b[0m\u001b[1;33m\u001b[0m\u001b[1;33m\u001b[0m\u001b[0m\n",
      "\u001b[1;32mpandas\\_libs\\index.pyx\u001b[0m in \u001b[0;36mpandas._libs.index.IndexEngine.get_value\u001b[1;34m()\u001b[0m\n",
      "\u001b[1;32mpandas\\_libs\\index.pyx\u001b[0m in \u001b[0;36mpandas._libs.index.IndexEngine.get_value\u001b[1;34m()\u001b[0m\n",
      "\u001b[1;32mpandas\\_libs\\index.pyx\u001b[0m in \u001b[0;36mpandas._libs.index.IndexEngine.get_loc\u001b[1;34m()\u001b[0m\n",
      "\u001b[1;32mpandas\\_libs\\hashtable_class_helper.pxi\u001b[0m in \u001b[0;36mpandas._libs.hashtable.PyObjectHashTable.get_item\u001b[1;34m()\u001b[0m\n",
      "\u001b[1;32mpandas\\_libs\\hashtable_class_helper.pxi\u001b[0m in \u001b[0;36mpandas._libs.hashtable.PyObjectHashTable.get_item\u001b[1;34m()\u001b[0m\n",
      "\u001b[1;31mKeyError\u001b[0m: 'Fehler(comp_0_3*rep_alt*group)'"
     ]
    }
   ],
   "source": [
    "ANOVA_GG_errors_df[\"df\"][\"Fehler(\" + \"*\".join(ANOVA_GG_sig_df[\"Unnamed: 0\"][i].split(\" * \")) + \")\"]"
   ]
  },
  {
   "cell_type": "code",
   "execution_count": null,
   "metadata": {},
   "outputs": [],
   "source": []
  }
 ],
 "metadata": {
  "kernelspec": {
   "display_name": "Python 3",
   "language": "python",
   "name": "python3"
  },
  "language_info": {
   "codemirror_mode": {
    "name": "ipython",
    "version": 3
   },
   "file_extension": ".py",
   "mimetype": "text/x-python",
   "name": "python",
   "nbconvert_exporter": "python",
   "pygments_lexer": "ipython3",
   "version": "3.8.3"
  }
 },
 "nbformat": 4,
 "nbformat_minor": 4
}
